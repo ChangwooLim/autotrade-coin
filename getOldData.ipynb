{
 "cells": [
  {
   "cell_type": "code",
   "execution_count": null,
   "id": "8deb5aae",
   "metadata": {},
   "outputs": [],
   "source": [
    "import pandas as pd\n",
    "import pyupbit\n",
    "from datetime import datetime, time, date, timedelta\n",
    "from calendar import monthrange\n",
    "from time import sleep"
   ]
  },
  {
   "cell_type": "code",
   "execution_count": null,
   "id": "5787c79f",
   "metadata": {},
   "outputs": [],
   "source": []
  },
  {
   "cell_type": "code",
   "execution_count": null,
   "id": "dabb5e4b",
   "metadata": {},
   "outputs": [],
   "source": [
    "apikey=open(\"api-key\", \"r\")\n",
    "access=apikey.readline().strip()\n",
    "secret=apikey.readline().strip()\n",
    "apikey.close()"
   ]
  },
  {
   "cell_type": "code",
   "execution_count": null,
   "id": "beaeb446",
   "metadata": {},
   "outputs": [],
   "source": []
  },
  {
   "cell_type": "code",
   "execution_count": null,
   "id": "5e1118e1",
   "metadata": {},
   "outputs": [],
   "source": [
    "upbit = pyupbit.Upbit(access, secret)"
   ]
  },
  {
   "cell_type": "code",
   "execution_count": null,
   "id": "68a89835",
   "metadata": {},
   "outputs": [],
   "source": [
    "def get_upbit_ohlcv(now, ticker, year, month):\n",
    "    df = pd.DataFrame(columns=['open', 'high', 'low', 'close', 'volume'])\n",
    "\n",
    "    # 해당 년월 1일부터\n",
    "    from_date = date(year, month, 1)\n",
    "\n",
    "    # 해당 년월 마지막 일(28일, 30일, 31일)\n",
    "    end_day = monthrange(year, month)[1]\n",
    "    to_date = date(year, month, end_day)\n",
    "    \n",
    "    # 해당 년월 마지막 일자가 현재 프로그램 수행일자보다 큰 경우\n",
    "    if to_date >= now.date():\n",
    "        to_date = now.date()\n",
    "        end_day = to_date.day\n",
    "\n",
    "    temp_list = []\n",
    "    # 해당 년월 1일부터 말일(또는 프로그램 수행일자)까지 데이터 수집 실시\n",
    "    for day in range(1, end_day+1):\n",
    "        cnt = 200 # default\n",
    "        base_time = datetime.combine(from_date, time(3, 20, 0))\n",
    "        # print(base_time)\n",
    "        for i in range(8):\n",
    "            try:\n",
    "                df_temp = pyupbit.get_ohlcv(ticker, interval='minute1', count=cnt, to=base_time)\n",
    "                # print(i, 'base_time:', base_time, 'shape:', df_temp.shape)\n",
    "                df = pd.concat([df, df_temp], axis=0)\n",
    "                if i == 6:\n",
    "                    base_time += timedelta(hours=0, minutes=40)\n",
    "                else:\n",
    "                    base_time += timedelta(hours=3, minutes=20)\n",
    "            except Exception as e:\n",
    "                print('Exception:', e)\n",
    "            \n",
    "        from_date = from_date + timedelta(days=1)\n",
    "        sleep(0.5)\n",
    "        \n",
    "    return df"
   ]
  },
  {
   "cell_type": "code",
   "execution_count": null,
   "id": "06069994",
   "metadata": {},
   "outputs": [],
   "source": [
    "df = get_upbit_ohlcv(now, ticker=my_ticker, year=year, month=month)"
   ]
  },
  {
   "cell_type": "code",
   "execution_count": null,
   "id": "8681a1c1",
   "metadata": {},
   "outputs": [],
   "source": []
  }
 ],
 "metadata": {
  "kernelspec": {
   "display_name": "trading",
   "language": "python",
   "name": "trading"
  },
  "language_info": {
   "codemirror_mode": {
    "name": "ipython",
    "version": 3
   },
   "file_extension": ".py",
   "mimetype": "text/x-python",
   "name": "python",
   "nbconvert_exporter": "python",
   "pygments_lexer": "ipython3",
   "version": "3.9.7"
  }
 },
 "nbformat": 4,
 "nbformat_minor": 5
}
