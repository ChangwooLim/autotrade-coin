{
 "cells": [
  {
   "cell_type": "code",
   "execution_count": 1,
   "metadata": {},
   "outputs": [],
   "source": [
    "import pandas as pd\n",
    "df=pd.read_csv(\"./data/201901-20220217.csv\")\n",
    "money=0"
   ]
  },
  {
   "cell_type": "code",
   "execution_count": 3,
   "metadata": {},
   "outputs": [
    {
     "ename": "KeyboardInterrupt",
     "evalue": "",
     "output_type": "error",
     "traceback": [
      "\u001b[0;31m---------------------------------------------------------------------------\u001b[0m",
      "\u001b[0;31mKeyboardInterrupt\u001b[0m                         Traceback (most recent call last)",
      "\u001b[1;32m/Users/limcw/Library/CloudStorage/OneDrive-개인/Programming/python/autotrade-coin/test.ipynb Cell 2'\u001b[0m in \u001b[0;36m<module>\u001b[0;34m\u001b[0m\n\u001b[1;32m      <a href='vscode-notebook-cell:/Users/limcw/Library/CloudStorage/OneDrive-%EA%B0%9C%EC%9D%B8/Programming/python/autotrade-coin/test.ipynb#ch0000000?line=0'>1</a>\u001b[0m \u001b[39mfor\u001b[39;00m loc \u001b[39min\u001b[39;00m \u001b[39mrange\u001b[39m(\u001b[39m1\u001b[39m, \u001b[39mlen\u001b[39m(df)):\n\u001b[0;32m----> <a href='vscode-notebook-cell:/Users/limcw/Library/CloudStorage/OneDrive-%EA%B0%9C%EC%9D%B8/Programming/python/autotrade-coin/test.ipynb#ch0000000?line=1'>2</a>\u001b[0m     \u001b[39mif\u001b[39;00m df\u001b[39m.\u001b[39;49miloc[loc][\u001b[39m'\u001b[39m\u001b[39mindex\u001b[39m\u001b[39m'\u001b[39m][\u001b[39m8\u001b[39m:\u001b[39m19\u001b[39m]\u001b[39m==\u001b[39m\u001b[39m'\u001b[39m\u001b[39m01 00:00:00\u001b[39m\u001b[39m'\u001b[39m:\n\u001b[1;32m      <a href='vscode-notebook-cell:/Users/limcw/Library/CloudStorage/OneDrive-%EA%B0%9C%EC%9D%B8/Programming/python/autotrade-coin/test.ipynb#ch0000000?line=2'>3</a>\u001b[0m             money\u001b[39m=\u001b[39mmoney\u001b[39m+\u001b[39m\u001b[39m1000000\u001b[39m\n\u001b[1;32m      <a href='vscode-notebook-cell:/Users/limcw/Library/CloudStorage/OneDrive-%EA%B0%9C%EC%9D%B8/Programming/python/autotrade-coin/test.ipynb#ch0000000?line=3'>4</a>\u001b[0m             \u001b[39mprint\u001b[39m(money)\n",
      "File \u001b[0;32m/opt/homebrew/anaconda3/envs/trading/lib/python3.9/site-packages/pandas/core/indexing.py:967\u001b[0m, in \u001b[0;36m_LocationIndexer.__getitem__\u001b[0;34m(self, key)\u001b[0m\n\u001b[1;32m    <a href='file:///opt/homebrew/anaconda3/envs/trading/lib/python3.9/site-packages/pandas/core/indexing.py?line=963'>964</a>\u001b[0m axis \u001b[39m=\u001b[39m \u001b[39mself\u001b[39m\u001b[39m.\u001b[39maxis \u001b[39mor\u001b[39;00m \u001b[39m0\u001b[39m\n\u001b[1;32m    <a href='file:///opt/homebrew/anaconda3/envs/trading/lib/python3.9/site-packages/pandas/core/indexing.py?line=965'>966</a>\u001b[0m maybe_callable \u001b[39m=\u001b[39m com\u001b[39m.\u001b[39mapply_if_callable(key, \u001b[39mself\u001b[39m\u001b[39m.\u001b[39mobj)\n\u001b[0;32m--> <a href='file:///opt/homebrew/anaconda3/envs/trading/lib/python3.9/site-packages/pandas/core/indexing.py?line=966'>967</a>\u001b[0m \u001b[39mreturn\u001b[39;00m \u001b[39mself\u001b[39;49m\u001b[39m.\u001b[39;49m_getitem_axis(maybe_callable, axis\u001b[39m=\u001b[39;49maxis)\n",
      "File \u001b[0;32m/opt/homebrew/anaconda3/envs/trading/lib/python3.9/site-packages/pandas/core/indexing.py:1490\u001b[0m, in \u001b[0;36m_iLocIndexer._getitem_axis\u001b[0;34m(self, key, axis)\u001b[0m\n\u001b[1;32m   <a href='file:///opt/homebrew/anaconda3/envs/trading/lib/python3.9/site-packages/pandas/core/indexing.py?line=1487'>1488</a>\u001b[0m \u001b[39mif\u001b[39;00m key \u001b[39mis\u001b[39;00m \u001b[39mEllipsis\u001b[39m:\n\u001b[1;32m   <a href='file:///opt/homebrew/anaconda3/envs/trading/lib/python3.9/site-packages/pandas/core/indexing.py?line=1488'>1489</a>\u001b[0m     key \u001b[39m=\u001b[39m \u001b[39mslice\u001b[39m(\u001b[39mNone\u001b[39;00m)\n\u001b[0;32m-> <a href='file:///opt/homebrew/anaconda3/envs/trading/lib/python3.9/site-packages/pandas/core/indexing.py?line=1489'>1490</a>\u001b[0m \u001b[39melif\u001b[39;00m \u001b[39misinstance\u001b[39;49m(key, ABCDataFrame):\n\u001b[1;32m   <a href='file:///opt/homebrew/anaconda3/envs/trading/lib/python3.9/site-packages/pandas/core/indexing.py?line=1490'>1491</a>\u001b[0m     \u001b[39mraise\u001b[39;00m \u001b[39mIndexError\u001b[39;00m(\n\u001b[1;32m   <a href='file:///opt/homebrew/anaconda3/envs/trading/lib/python3.9/site-packages/pandas/core/indexing.py?line=1491'>1492</a>\u001b[0m         \u001b[39m\"\u001b[39m\u001b[39mDataFrame indexer is not allowed for .iloc\u001b[39m\u001b[39m\\n\u001b[39;00m\u001b[39m\"\u001b[39m\n\u001b[1;32m   <a href='file:///opt/homebrew/anaconda3/envs/trading/lib/python3.9/site-packages/pandas/core/indexing.py?line=1492'>1493</a>\u001b[0m         \u001b[39m\"\u001b[39m\u001b[39mConsider using .loc for automatic alignment.\u001b[39m\u001b[39m\"\u001b[39m\n\u001b[1;32m   <a href='file:///opt/homebrew/anaconda3/envs/trading/lib/python3.9/site-packages/pandas/core/indexing.py?line=1493'>1494</a>\u001b[0m     )\n\u001b[1;32m   <a href='file:///opt/homebrew/anaconda3/envs/trading/lib/python3.9/site-packages/pandas/core/indexing.py?line=1495'>1496</a>\u001b[0m \u001b[39mif\u001b[39;00m \u001b[39misinstance\u001b[39m(key, \u001b[39mslice\u001b[39m):\n",
      "\u001b[0;31mKeyboardInterrupt\u001b[0m: "
     ]
    }
   ],
   "source": [
    "for loc in range(1, len(df)):\n",
    "...     if df.iloc[loc]['index'][8:19]=='01 00:00:00':\n",
    "...             money=money+1000000\n",
    "...             print(money)"
   ]
  },
  {
   "cell_type": "code",
   "execution_count": null,
   "metadata": {},
   "outputs": [],
   "source": []
  }
 ],
 "metadata": {
  "interpreter": {
   "hash": "397bca0f057b7afe5759b36dfecb81c309eeaa5dd15484031e3f746da8aed8ec"
  },
  "kernelspec": {
   "display_name": "Python 3.9.7 ('trading')",
   "language": "python",
   "name": "python3"
  },
  "language_info": {
   "codemirror_mode": {
    "name": "ipython",
    "version": 3
   },
   "file_extension": ".py",
   "mimetype": "text/x-python",
   "name": "python",
   "nbconvert_exporter": "python",
   "pygments_lexer": "ipython3",
   "version": "3.9.7"
  },
  "orig_nbformat": 4
 },
 "nbformat": 4,
 "nbformat_minor": 2
}
